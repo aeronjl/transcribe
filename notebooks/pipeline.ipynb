{
 "cells": [
  {
   "cell_type": "code",
   "execution_count": 1,
   "metadata": {},
   "outputs": [],
   "source": [
    "import sys\n",
    "import os\n",
    "from io import BytesIO\n",
    "\n",
    "# import precisetranscribe as at\n",
    "\n",
    "src_path = os.path.join(os.path.dirname(os.getcwd()), 'src')\n",
    "sys.path.append(src_path)\n",
    "\n",
    "import precisetranscribe as at"
   ]
  },
  {
   "cell_type": "code",
   "execution_count": 2,
   "metadata": {},
   "outputs": [
    {
     "name": "stdout",
     "output_type": "stream",
     "text": [
      "File 'data/audio/Farage SLAMS Ofcom Election Interference.mp4' found.\n",
      "Input file size: 0 bytes\n",
      "Input file type: <class '_io.BufferedReader'>\n",
      "Input file mode: rb\n",
      "Temporary input file: /var/folders/pj/_zy5kbws42v3v2m73w83zq6r0000gn/T/tmpq2jjhmux\n",
      "Temporary output file: /var/folders/pj/_zy5kbws42v3v2m73w83zq6r0000gn/T/tmpv81izr6p.wav\n",
      "Wrote 27200614 bytes to temporary input file\n",
      "Input file duration: 182.36 seconds\n",
      "Converted WAV size: 5837390 bytes\n",
      "Output file duration: 182.416 seconds\n",
      "Successfully converted file. WAV data length: 5837390 bytes\n"
     ]
    }
   ],
   "source": [
    "filename = \"data/audio/Farage SLAMS Ofcom Election Interference.mp4\"\n",
    "\n",
    "# Check if file exists\n",
    "if not os.path.exists(filename):\n",
    "    print(f\"Error: File '{filename}' does not exist.\")\n",
    "else:\n",
    "    print(f\"File '{filename}' found.\")\n",
    "\n",
    "    try:\n",
    "        with open(filename, \"rb\") as input_file:\n",
    "            wav_data = at.utils.convert_to_wav(input_file)\n",
    "        \n",
    "        if wav_data is None:\n",
    "            print(\"Error: convert_to_wav returned None.\")\n",
    "        else:\n",
    "            print(f\"Successfully converted file. WAV data length: {len(wav_data)} bytes\")\n",
    "    except Exception as e:\n",
    "        print(f\"An error occurred: {str(e)}\")"
   ]
  },
  {
   "cell_type": "code",
   "execution_count": null,
   "metadata": {},
   "outputs": [],
   "source": [
    "whisper_output = at.transcribe_audio(wav_data)\n",
    "\n",
    "# Save Whisper transcription locally\n",
    "at.utils.save_whisper_output(whisper_output, filename)"
   ]
  },
  {
   "cell_type": "code",
   "execution_count": null,
   "metadata": {},
   "outputs": [],
   "source": [
    "# 3. Process the Whisper transcription\n",
    "processed_transcript = at.process_whisper_transcription(whisper_output, speakers=2)\n",
    "\n",
    "# Save the final transcript\n",
    "at.utils.save_processed_transcript(processed_transcript, filename)"
   ]
  }
 ],
 "metadata": {
  "kernelspec": {
   "display_name": "venv",
   "language": "python",
   "name": "python3"
  },
  "language_info": {
   "codemirror_mode": {
    "name": "ipython",
    "version": 3
   },
   "file_extension": ".py",
   "mimetype": "text/x-python",
   "name": "python",
   "nbconvert_exporter": "python",
   "pygments_lexer": "ipython3",
   "version": "3.12.1"
  }
 },
 "nbformat": 4,
 "nbformat_minor": 2
}
