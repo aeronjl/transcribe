{
 "cells": [
  {
   "cell_type": "code",
   "execution_count": null,
   "metadata": {},
   "outputs": [],
   "source": [
    "import sys\n",
    "import os\n",
    "# import accuratetranscribe as at\n",
    "\n",
    "src_path = os.path.join(os.path.dirname(os.getcwd()), 'src')\n",
    "sys.path.append(src_path)\n",
    "\n",
    "import accuratetranscribe as at\n"
   ]
  },
  {
   "cell_type": "code",
   "execution_count": null,
   "metadata": {},
   "outputs": [],
   "source": [
    "filename = \"test.wav\""
   ]
  },
  {
   "cell_type": "code",
   "execution_count": null,
   "metadata": {},
   "outputs": [],
   "source": [
    "# 1. Load file into bytes and convert to WAV\n",
    "wav_data = at.audio.prepare_audio(f\"data/media/{filename}\")"
   ]
  },
  {
   "cell_type": "code",
   "execution_count": null,
   "metadata": {},
   "outputs": [],
   "source": [
    "# 2. Transcribe the audio and save it locally\n",
    "whisper_output = at.audio.transcribe_audio(wav_data)\n",
    "at.file.save_whisper_output(whisper_output, f\"data/transcripts/{os.path.splitext(filename)[0]}\")"
   ]
  },
  {
   "cell_type": "code",
   "execution_count": null,
   "metadata": {},
   "outputs": [],
   "source": [
    "# 3. Process the Whisper transcription and save it\n",
    "\n",
    "# whisper_output = at.file.load_whisper_output(f\"data/transcripts/{os.path.splitext(filename)[0]}\")\n",
    "processed_transcript = at.text.process_whisper_transcription(whisper_output, speakers=2)\n",
    "at.file.save_processed_transcript(processed_transcript, f\"data/transcripts/{os.path.splitext(filename)[0]}\")"
   ]
  },
  {
   "cell_type": "code",
   "execution_count": null,
   "metadata": {},
   "outputs": [],
   "source": [
    "# 4. Align timestamps and save the aligned transcript\n",
    "\n",
    "aligned_transcript = at.text.align_timestamps(processed_transcript, whisper_output)\n",
    "at.file.save_aligned_transcript(aligned_transcript, f\"data/transcripts/{os.path.splitext(filename)[0]}\")\n",
    "at.text.export_transcript(aligned_transcript, filename=os.path.splitext(filename)[0])"
   ]
  }
 ],
 "metadata": {
  "kernelspec": {
   "display_name": "venv",
   "language": "python",
   "name": "python3"
  },
  "language_info": {
   "codemirror_mode": {
    "name": "ipython",
    "version": 3
   },
   "file_extension": ".py",
   "mimetype": "text/x-python",
   "name": "python",
   "nbconvert_exporter": "python",
   "pygments_lexer": "ipython3",
   "version": "3.12.1"
  }
 },
 "nbformat": 4,
 "nbformat_minor": 2
}
