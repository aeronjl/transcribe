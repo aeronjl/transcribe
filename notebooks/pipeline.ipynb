{
 "cells": [
  {
   "cell_type": "code",
   "execution_count": null,
   "metadata": {},
   "outputs": [],
   "source": [
    "from io import BytesIO\n",
    "import accuratetranscribe as at"
   ]
  },
  {
   "cell_type": "code",
   "execution_count": null,
   "metadata": {},
   "outputs": [],
   "source": [
    "filename = \"audio/\"\n",
    "with open(filename, \"rb\") as input_file:\n",
    "    audio_file = BytesIO(input_file)"
   ]
  },
  {
   "cell_type": "code",
   "execution_count": null,
   "metadata": {},
   "outputs": [],
   "source": [
    "wav_data = at.utils.convert_to_wav(audio_file)"
   ]
  },
  {
   "cell_type": "code",
   "execution_count": null,
   "metadata": {},
   "outputs": [],
   "source": [
    "whisper_output = at.transcribe_audio(wav_data)\n",
    "\n",
    "# Save Whisper transcription locally\n",
    "at.utils.save_whisper_output(whisper_output, filename)"
   ]
  },
  {
   "cell_type": "code",
   "execution_count": null,
   "metadata": {},
   "outputs": [],
   "source": [
    "# 3. Process the Whisper transcription\n",
    "processed_transcript = at.process_whisper_transcription(whisper_output, speakers=2)\n",
    "\n",
    "# Save the final transcript\n",
    "at.utils.save_final_output(processed_transcript, filename)"
   ]
  },
  {
   "cell_type": "code",
   "execution_count": null,
   "metadata": {},
   "outputs": [],
   "source": [
    "# The transcription still performs well when an explicit number of speakers is not given\n",
    "processed_transcript_no_speaker_prompt = at.process_whisper_transcription(whisper_output)\n",
    "\n",
    "# Save the transcript without an explicit \n",
    "# sample_transcript"
   ]
  }
 ],
 "metadata": {
  "language_info": {
   "name": "python"
  }
 },
 "nbformat": 4,
 "nbformat_minor": 2
}
